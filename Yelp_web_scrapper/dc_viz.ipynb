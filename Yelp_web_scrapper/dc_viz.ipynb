{
 "cells": [
  {
   "cell_type": "code",
   "execution_count": 1,
   "metadata": {
    "collapsed": false
   },
   "outputs": [],
   "source": [
    "from bs4 import BeautifulSoup\n",
    "import requests\n",
    "import re\n",
    "import json\n",
    "import sys\n",
    "import os\n",
    "import scrapping_functions as sf\n",
    "import pandas as pd\n",
    "import matplotlib.pyplot as plt\n",
    "import operator\n",
    "import re\n",
    "import numpy as np\n",
    "\n",
    "base_url = 'https://www.yelp.com'"
   ]
  },
  {
   "cell_type": "code",
   "execution_count": 2,
   "metadata": {
    "collapsed": false
   },
   "outputs": [
    {
     "data": {
      "text/plain": [
       "'C:\\\\Users\\\\835861\\\\projects\\\\georgetown\\\\yelp-classification\\\\Yelp_web_scrapper'"
      ]
     },
     "execution_count": 2,
     "metadata": {},
     "output_type": "execute_result"
    }
   ],
   "source": [
    "os.getcwd()"
   ]
  },
  {
   "cell_type": "code",
   "execution_count": 3,
   "metadata": {
    "collapsed": false
   },
   "outputs": [],
   "source": [
    "#test = json.load(open('C:\\\\Users\\\\835861\\\\projects\\\\georgetown\\\\yelp-classification\\\\Yelp_web_scrapper\\\\dc_reviews.json'))\n",
    "reviews = json.load(open('C:\\\\Users\\\\835861\\\\projects\\\\georgetown\\\\yelp-classification\\\\Yelp_web_scrapper\\\\dc_reviews.json'))"
   ]
  },
  {
   "cell_type": "code",
   "execution_count": 4,
   "metadata": {
    "collapsed": true
   },
   "outputs": [],
   "source": [
    "#biz_test = json.load(open('C:\\\\Users\\\\835861\\\\projects\\\\georgetown\\\\yelp-classification\\\\Yelp_web_scrapper\\\\biz_details.json'))\n",
    "business = json.load(open('C:\\\\Users\\\\835861\\\\projects\\\\georgetown\\\\yelp-classification\\\\Yelp_web_scrapper\\\\biz_details.json'))"
   ]
  },
  {
   "cell_type": "code",
   "execution_count": 5,
   "metadata": {
    "collapsed": false,
    "scrolled": true
   },
   "outputs": [
    {
     "name": "stdout",
     "output_type": "stream",
     "text": [
      "[('empanadas', 1), ('caribbean', 1), ('restaurants', 1), ('convenience', 1), ('raw_food', 1), ('tex-mex', 1), ('turkish', 1), ('lebanese', 1), ('chickenshop', 1), ('cookingclasses', 1), ('bakeries', 1), ('creperies', 1), ('jazzandblues', 1), ('tapas', 1), ('fishnchips', 1), ('irish', 1), ('southern', 1), ('cuban', 1), ('salvadoran', 1), ('srilankan', 1), ('bedbreakfast', 1), ('whiskeybars', 1), ('petadoption', 1), ('themedcafes', 1), ('food_court', 1), ('meats', 1), ('bookstores', 1), ('brazilian', 1), ('austrian', 1), ('izakaya', 1), ('distilleries', 1), ('african', 1), ('filipino', 1), ('tea', 1), ('beer_and_wine', 2), ('juicebars', 2), ('chicken_wings', 2), ('bagels', 2), ('greek', 2), ('tapasmallplates', 2), ('ethiopian', 2), ('desserts', 2), ('modern_european', 2), ('gluten_free', 2), ('pakistani', 2), ('gastropubs', 2), ('bbq', 2), ('hotdogs', 3), ('vegan', 3), ('halal', 3), ('pubs', 3), ('burgers', 3), ('japanese', 3), ('afghani', 3), ('belgian', 3), ('breweries', 3), ('sportsbars', 4), ('beerbar', 4), ('cajun', 4), ('vietnamese', 4), ('thai', 4), ('spanish', 4), ('soulfood', 4), ('soup', 4), ('vegetarian', 5), ('cafes', 5), ('wine_bars', 5), ('mideastern', 5), ('lounges', 6), ('sushi', 6), ('chinese', 6), ('latin', 7), ('indpak', 7), ('asianfusion', 7), ('steak', 8), ('mediterranean', 9), ('salad', 9), ('mexican', 10), ('pizza', 11), ('korean', 12), ('coffee', 12), ('cocktailbars', 12), ('italian', 19), ('diners', 29), ('peruvian', 29), ('foodtrucks', 33), ('ramen', 62), ('breakfast_brunch', 84), ('seafood', 87), ('tradamerican', 106), ('delis', 199), ('sandwiches', 219), ('french', 321), ('newamerican', 364), ('bars', 540)]\n",
      "\n",
      "The top 5 categories are : [('delis', 199), ('sandwiches', 219), ('french', 321), ('newamerican', 364), ('bars', 540)]\n"
     ]
    }
   ],
   "source": [
    "business_dict =  {}\n",
    "\n",
    "for key in business.keys():\n",
    "    category_list = business[key]['category_aliases'].split(',')\n",
    "    #print(category_list)\n",
    "    \n",
    "    for item in category_list:\n",
    "        if item not in business_dict:\n",
    "            business_dict[item] = 1\n",
    "        else:\n",
    "            business_dict[item] += 1\n",
    "\n",
    "sorted_business_dict = sorted(business_dict.items(), key=operator.itemgetter(1))\n",
    "print(sorted_business_dict)\n",
    "\n",
    "top_five_categories = sorted_business_dict[-5:-1]\n",
    "top_five_categories.append(sorted_business_dict[-1])\n",
    "\n",
    "print(\"\\nThe top 5 categories are : \" + str(top_five_categories))\n"
   ]
  },
  {
   "cell_type": "code",
   "execution_count": 6,
   "metadata": {
    "collapsed": false,
    "scrolled": true
   },
   "outputs": [
    {
     "name": "stdout",
     "output_type": "stream",
     "text": [
      "'delis','sandwiches','french','newamerican','bars'\n",
      " 199, 219, 321, 364, 540\n"
     ]
    }
   ],
   "source": [
    "xaxis = \"\"\n",
    "yaxis = \"\"\n",
    "\n",
    "for category in top_five_categories:\n",
    "    category_names_values = str(category).split(',')  \n",
    "    category_names_values[0] = category_names_values[0][1:]\n",
    "    category_names_values[1] = category_names_values[1][:-1]\n",
    "    xaxis += category_names_values[0] + ','\n",
    "    yaxis += category_names_values[1] + ','\n",
    "\n",
    "# index 0 is X-axis value, index 1 is Y-axis\n",
    "xaxis = xaxis[0:-1]\n",
    "yaxis = yaxis[0:-1]\n",
    "print(xaxis)\n",
    "print(yaxis)"
   ]
  },
  {
   "cell_type": "code",
   "execution_count": 7,
   "metadata": {
    "collapsed": false
   },
   "outputs": [
    {
     "data": {
      "image/png": "[encoded data removed]",
      "text/plain": [
       "<matplotlib.figure.Figure at 0x296b8db9b00>"
      ]
     },
     "metadata": {},
     "output_type": "display_data"
    }
   ],
   "source": [
    "objects = ('delis','sandwiches','french','newamerican','bars')\n",
    "y_pos = np.arange(len(objects))\n",
    "performance = [199, 219, 321, 364, 540]\n",
    " \n",
    "plt.bar(y_pos, performance, align='center', alpha=0.5)\n",
    "plt.xticks(y_pos, objects)\n",
    "plt.ylabel('Frequency')\n",
    "plt.title('Most popular categories in DC')\n",
    " \n",
    "plt.show()\n"
   ]
  },
  {
   "cell_type": "code",
   "execution_count": 8,
   "metadata": {
    "collapsed": false
   },
   "outputs": [
    {
     "name": "stdout",
     "output_type": "stream",
     "text": [
      "1star:439\n",
      "2star:629\n",
      "3star:1469\n",
      "4star:3335\n",
      "5star:4018\n"
     ]
    }
   ],
   "source": [
    "rating_dict =  {'1': 0, '2': 0, '3': 0, '4': 0, '5': 0}\n",
    "\n",
    "\n",
    "\n",
    "for key in reviews.keys():\n",
    "    reviews_list = reviews[key]['review']\n",
    "    \n",
    "    for review in reviews_list:\n",
    "        ratingValue = str(review['reviewRating']['ratingValue'])\n",
    "        # find ratingValue as key in rating_dict and increment value\n",
    "        rating_dict[ratingValue] = rating_dict.get(ratingValue, 0) + 1\n",
    "        #print(\"ratingValue : \" + ratingValue)\n",
    "    \n",
    "print(\"1star:\" + str(rating_dict['1']))\n",
    "print(\"2star:\" + str(rating_dict['2']))\n",
    "print(\"3star:\" + str(rating_dict['3']))\n",
    "print(\"4star:\" + str(rating_dict['4']))\n",
    "print(\"5star:\" + str(rating_dict['5']))\n"
   ]
  },
  {
   "cell_type": "code",
   "execution_count": 11,
   "metadata": {
    "collapsed": false
   },
   "outputs": [
    {
     "data": {
      "image/png": "[encoded data removed]",
      "text/plain": [
       "<matplotlib.figure.Figure at 0x296b92f1588>"
      ]
     },
     "metadata": {},
     "output_type": "display_data"
    }
   ],
   "source": [
    "xaxis_rev = ('1star','2star','3star','4star','5star')\n",
    "y_pos_rev = np.arange(len(xaxis_rev))\n",
    "yaxis_rev = [rating_dict['1'],rating_dict['2'],rating_dict['3'],rating_dict['4'],rating_dict['5']]\n",
    "\n",
    "\n",
    "plt.bar(y_pos_rev, yaxis_rev, align='center', alpha=0.5)\n",
    "plt.xticks(y_pos_rev, xaxis_rev)\n",
    "plt.ylabel('Frequency')\n",
    "plt.title('Restaurant Star Ratings in DC')\n",
    " \n",
    "plt.show()"
   ]
  },
  {
   "cell_type": "code",
   "execution_count": null,
   "metadata": {
    "collapsed": true
   },
   "outputs": [],
   "source": []
  }
 ],
 "metadata": {
  "anaconda-cloud": {},
  "kernelspec": {
   "display_name": "Python 3",
   "language": "python",
   "name": "python3"
  },
  "language_info": {
   "codemirror_mode": {
    "name": "ipython",
    "version": 3
   },
   "file_extension": ".py",
   "mimetype": "text/x-python",
   "name": "python",
   "nbconvert_exporter": "python",
   "pygments_lexer": "ipython3",
   "version": "3.6.0"
  }
 },
 "nbformat": 4,
 "nbformat_minor": 1
}
