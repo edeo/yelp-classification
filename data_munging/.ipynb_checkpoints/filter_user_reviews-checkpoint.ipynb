{
 "cells": [
  {
   "cell_type": "code",
   "execution_count": 1,
   "metadata": {
    "collapsed": true
   },
   "outputs": [],
   "source": [
    "from pymongo import MongoClient\n",
    "from datetime import datetime\n",
    "import json\n",
    "import pdb\n",
    "import csv\n",
    "import tqdm"
   ]
  },
  {
   "cell_type": "code",
   "execution_count": 2,
   "metadata": {
    "collapsed": true
   },
   "outputs": [],
   "source": [
    "ip = '52.54.120.114'"
   ]
  },
  {
   "cell_type": "code",
   "execution_count": 3,
   "metadata": {
    "collapsed": false,
    "scrolled": false
   },
   "outputs": [
    {
     "data": {
      "text/plain": [
       "[u'local', u'cleaned_data']"
      ]
     },
     "execution_count": 3,
     "metadata": {},
     "output_type": "execute_result"
    }
   ],
   "source": [
    "conn = MongoClient(ip, 27017)\n",
    "conn.database_names()"
   ]
  },
  {
   "cell_type": "code",
   "execution_count": 4,
   "metadata": {
    "collapsed": true
   },
   "outputs": [],
   "source": [
    "db = conn.get_database('cleaned_data')"
   ]
  },
  {
   "cell_type": "code",
   "execution_count": 5,
   "metadata": {
    "collapsed": false
   },
   "outputs": [
    {
     "data": {
      "text/plain": [
       "[u'dc_reviews',\n",
       " u'restaurant_reviews',\n",
       " u'restaurants',\n",
       " u'system.indexes',\n",
       " u'users']"
      ]
     },
     "execution_count": 5,
     "metadata": {},
     "output_type": "execute_result"
    }
   ],
   "source": [
    "db.collection_names()"
   ]
  },
  {
   "cell_type": "code",
   "execution_count": 6,
   "metadata": {
    "collapsed": false
   },
   "outputs": [],
   "source": [
    "biz = db.get_collection('restaurants')\n",
    "users = db.get_collection('users')\n",
    "reviews = db.get_collection('restaurant_reviews')"
   ]
  },
  {
   "cell_type": "markdown",
   "metadata": {},
   "source": [
    "The business ID field has already been filtered for only restaurants\n",
    "\n",
    "We want to filter the users collection for the following:\n",
    "    1. User must have at least 20 reviews\n",
    "    2. For users with 20 reviews, identify the reviews which are for businesses\n",
    "    3. For each user, keep only those reviews which are related to a business in \n",
    "    the list of restaurant business IDs\n",
    "    4. Keep only users who have at least 500 reviews after finishing step 3"
   ]
  },
  {
   "cell_type": "code",
   "execution_count": 7,
   "metadata": {
    "collapsed": false
   },
   "outputs": [],
   "source": [
    "biguser = []\n",
    "\n",
    "for obj in users.find({'review_count':{'$gt':500}}):\n",
    "    biguser.append(obj['user_id'])"
   ]
  },
  {
   "cell_type": "markdown",
   "metadata": {},
   "source": [
    "Create a new dictionary with the following structure and then export as a json object:\n",
    "    \n",
    "{user id: [review, review, review], ..., user id: [review, review, review]}"
   ]
  },
  {
   "cell_type": "code",
   "execution_count": 34,
   "metadata": {
    "collapsed": true
   },
   "outputs": [
    {
     "name": "stderr",
     "output_type": "stream",
     "text": [
      "\n",
      "  0%|          | 0/20 [00:00<?, ?it/s]\u001b[A\n",
      "  5%|▌         | 1/20 [00:01<00:19,  1.02s/it]\u001b[A\n",
      " 10%|█         | 2/20 [00:01<00:17,  1.02it/s]\u001b[A\n",
      " 15%|█▌        | 3/20 [00:02<00:16,  1.04it/s]\u001b[A\n",
      " 20%|██        | 4/20 [00:03<00:15,  1.06it/s]\u001b[A\n",
      " 25%|██▌       | 5/20 [00:04<00:13,  1.08it/s]\u001b[A\n",
      " 30%|███       | 6/20 [00:05<00:12,  1.09it/s]\u001b[A\n",
      " 35%|███▌      | 7/20 [00:06<00:11,  1.09it/s]\u001b[A\n",
      " 40%|████      | 8/20 [00:07<00:11,  1.09it/s]\u001b[A\n",
      " 45%|████▌     | 9/20 [00:08<00:10,  1.09it/s]\u001b[A\n",
      "\n",
      " 50%|█████     | 10/20 [00:09<00:09,  1.10it/s]\u001b[A\n",
      " 55%|█████▌    | 11/20 [00:10<00:08,  1.11it/s]\u001b[A\n",
      " 60%|██████    | 12/20 [00:10<00:07,  1.10it/s]\u001b[A\n",
      " 65%|██████▌   | 13/20 [00:11<00:06,  1.11it/s]\u001b[A\n",
      " 70%|███████   | 14/20 [00:12<00:05,  1.12it/s]\u001b[A\n",
      " 75%|███████▌  | 15/20 [00:13<00:04,  1.12it/s]\u001b[A\n",
      " 80%|████████  | 16/20 [00:14<00:03,  1.12it/s]\u001b[A\n",
      " 85%|████████▌ | 17/20 [00:15<00:02,  1.12it/s]\u001b[A\n",
      " 90%|█████████ | 18/20 [00:16<00:01,  1.12it/s]\u001b[A\n",
      " 95%|█████████▌| 19/20 [00:17<00:00,  1.13it/s]\u001b[A\n",
      "100%|██████████| 20/20 [00:18<00:00,  1.11it/s]\u001b[A\n",
      "\u001b[A"
     ]
    }
   ],
   "source": [
    "userreview = {}\n",
    "\n",
    "for i in tqdm.tqdm(range(0,len(biguser[0:20]))):\n",
    "    ulist = []\n",
    "    for obj in reviews.find({'user_id':biguser[i]}):\n",
    "        del obj['_id']\n",
    "        ulist.append(obj)\n",
    "    userreview[str(biguser[i])] = ulist"
   ]
  },
  {
   "cell_type": "code",
   "execution_count": 23,
   "metadata": {
    "collapsed": false
   },
   "outputs": [],
   "source": [
    "with open('user_review_dictionary.json', 'w') as outfile:\n",
    "    json.dump(userreview, outfile)"
   ]
  },
  {
   "cell_type": "markdown",
   "metadata": {},
   "source": [
    "Get all the restaurant IDs within our user reviews"
   ]
  },
  {
   "cell_type": "code",
   "execution_count": 35,
   "metadata": {
    "collapsed": false
   },
   "outputs": [],
   "source": [
    "biznames =[]\n",
    "\n",
    "for key in userreview.keys():\n",
    "    for review in userreview[key]:\n",
    "        biznames.append(review['business_id'])"
   ]
  },
  {
   "cell_type": "markdown",
   "metadata": {},
   "source": [
    "For each of the businesses, find all of the reviews for that restaurant"
   ]
  },
  {
   "cell_type": "code",
   "execution_count": 36,
   "metadata": {
    "collapsed": false
   },
   "outputs": [
    {
     "name": "stderr",
     "output_type": "stream",
     "text": [
      "100%|██████████| 996/996 [18:32<00:00,  1.10s/it]\n"
     ]
    }
   ],
   "source": [
    "restreview = {}\n",
    "\n",
    "for i in tqdm.tqdm(range(0, len(biznames))):\n",
    "    rlist = []\n",
    "    for obj in reviews.find({'business_id':biznames[i]}):\n",
    "        rlist.append(obj)\n",
    "    restreview[biznames[i]] = rlist"
   ]
  },
  {
   "cell_type": "code",
   "execution_count": null,
   "metadata": {
    "collapsed": false
   },
   "outputs": [],
   "source": [
    "for key in restreview.keys():\n",
    "    for review in restreview[key]:\n",
    "        if '_id' in review: del review['_id']\n",
    "\n",
    "\n",
    "with open('rest_review_dictionary.json', 'w') as outfile:\n",
    "    json.dump(restreview, outfile)"
   ]
  }
 ],
 "metadata": {
  "anaconda-cloud": {},
  "kernelspec": {
   "display_name": "Python [default]",
   "language": "python",
   "name": "python2"
  },
  "language_info": {
   "codemirror_mode": {
    "name": "ipython",
    "version": 2
   },
   "file_extension": ".py",
   "mimetype": "text/x-python",
   "name": "python",
   "nbconvert_exporter": "python",
   "pygments_lexer": "ipython2",
   "version": "2.7.12"
  }
 },
 "nbformat": 4,
 "nbformat_minor": 1
}
